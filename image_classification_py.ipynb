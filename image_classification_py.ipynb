{
  "nbformat": 4,
  "nbformat_minor": 0,
  "metadata": {
    "colab": {
      "provenance": [],
      "authorship_tag": "ABX9TyPB4mDFNg1XWVl7pXB5A2nm",
      "include_colab_link": true
    },
    "kernelspec": {
      "name": "python3",
      "display_name": "Python 3"
    },
    "language_info": {
      "name": "python"
    }
  },
  "cells": [
    {
      "cell_type": "markdown",
      "metadata": {
        "id": "view-in-github",
        "colab_type": "text"
      },
      "source": [
        "<a href=\"https://colab.research.google.com/github/anitasharma2005/Fibonacci-Sequence/blob/main/image_classification_py.ipynb\" target=\"_parent\"><img src=\"https://colab.research.google.com/assets/colab-badge.svg\" alt=\"Open In Colab\"/></a>"
      ]
    },
    {
      "cell_type": "code",
      "execution_count": 4,
      "metadata": {
        "id": "gzqogJtGVTvK"
      },
      "outputs": [],
      "source": [
        "# import necessary libraries\n",
        "import numpy as np\n",
        "import matplotlib.pyplot as plt\n",
        "from tensorflow import keras\n",
        "from tensorflow.keras import layers\n",
        "from tensorflow.keras.datasets import cifar10\n"
      ]
    },
    {
      "cell_type": "code",
      "source": [
        "# load cifar 10 dataset\n",
        "(x_train, y_train), (x_test, y_test)=cifar10.load_data()"
      ],
      "metadata": {
        "colab": {
          "base_uri": "https://localhost:8080/"
        },
        "id": "rLO7RRQOXJfO",
        "outputId": "27bffa1f-da0e-4e68-ca6e-2f1341914cd1"
      },
      "execution_count": 10,
      "outputs": [
        {
          "output_type": "stream",
          "name": "stdout",
          "text": [
            "Downloading data from https://www.cs.toronto.edu/~kriz/cifar-10-python.tar.gz\n",
            "170498071/170498071 [==============================] - 2s 0us/step\n"
          ]
        }
      ]
    },
    {
      "cell_type": "code",
      "source": [
        "#normalize pixel values between 0 and 1\n",
        "x_train=x_train.astype(\"float32\")/255.0\n",
        "x_test=x_test.astype(\"float32\")/255.0"
      ],
      "metadata": {
        "id": "Zi5qr5v2X1zu"
      },
      "execution_count": 11,
      "outputs": []
    },
    {
      "cell_type": "code",
      "source": [
        "#define model\n",
        "model=keras.Sequential([\n",
        "    keras.Input(shape=(32,32,3)),\n",
        "    layers.Conv2D(32,kernel_size=(3,3),activation=\"relu\"),\n",
        "    layers.MaxPooling2D(pool_size=(2,2)),\n",
        "    layers.Conv2D(64,kernel_size=(3,3),activation=\"relu\"),\n",
        "    layers.MaxPooling2D(pool_size=(2,2)),\n",
        "    layers.Flatten(),\n",
        "    layers.Dropout(0.5),\n",
        "    layers.Dense(10,activation=\"softmax\")\n",
        "])"
      ],
      "metadata": {
        "id": "pUKQorWwYWyT"
      },
      "execution_count": 16,
      "outputs": []
    },
    {
      "cell_type": "code",
      "source": [
        "#compile the model\n",
        "model.compile(loss=\"sparse_categorical_crossentropy\",optimizer=\"adam\",metrics=[\"accuracy\"])\n"
      ],
      "metadata": {
        "id": "HKd9R_gZbPT-"
      },
      "execution_count": 17,
      "outputs": []
    },
    {
      "cell_type": "code",
      "source": [
        "#train the model\n",
        "history=model.fit(x_train,y_train,batch_size=128,epochs=10,validation_split=0.1)"
      ],
      "metadata": {
        "id": "XJGt2rQVcdMq",
        "outputId": "71ffc430-1a1a-43e5-fb32-40ab3dd0d2cd",
        "colab": {
          "base_uri": "https://localhost:8080/"
        }
      },
      "execution_count": 18,
      "outputs": [
        {
          "metadata": {
            "tags": null
          },
          "name": "stdout",
          "output_type": "stream",
          "text": [
            "Epoch 1/10\n",
            "352/352 [==============================] - 52s 144ms/step - loss: 1.7319 - accuracy: 0.3759 - val_loss: 1.4455 - val_accuracy: 0.4898\n",
            "Epoch 2/10\n",
            "352/352 [==============================] - 52s 148ms/step - loss: 1.4131 - accuracy: 0.4990 - val_loss: 1.2885 - val_accuracy: 0.5502\n",
            "Epoch 3/10\n",
            "352/352 [==============================] - 52s 148ms/step - loss: 1.3105 - accuracy: 0.5364 - val_loss: 1.2032 - val_accuracy: 0.5890\n",
            "Epoch 4/10\n",
            "352/352 [==============================] - 51s 144ms/step - loss: 1.2358 - accuracy: 0.5689 - val_loss: 1.1278 - val_accuracy: 0.6144\n",
            "Epoch 5/10\n",
            "352/352 [==============================] - 52s 147ms/step - loss: 1.1798 - accuracy: 0.5898 - val_loss: 1.0942 - val_accuracy: 0.6286\n",
            "Epoch 6/10\n",
            "352/352 [==============================] - 50s 143ms/step - loss: 1.1376 - accuracy: 0.6049 - val_loss: 1.0483 - val_accuracy: 0.6420\n",
            "Epoch 7/10\n",
            "352/352 [==============================] - 52s 147ms/step - loss: 1.0914 - accuracy: 0.6214 - val_loss: 1.0054 - val_accuracy: 0.6604\n",
            "Epoch 8/10\n",
            "352/352 [==============================] - 50s 142ms/step - loss: 1.0622 - accuracy: 0.6311 - val_loss: 0.9831 - val_accuracy: 0.6666\n",
            "Epoch 9/10\n",
            "352/352 [==============================] - 51s 145ms/step - loss: 1.0407 - accuracy: 0.6400 - val_loss: 0.9958 - val_accuracy: 0.6622\n",
            "Epoch 10/10\n",
            "352/352 [==============================] - 51s 145ms/step - loss: 1.0186 - accuracy: 0.6460 - val_loss: 0.9261 - val_accuracy: 0.6922\n"
          ]
        }
      ]
    },
    {
      "cell_type": "code",
      "source": [
        "#evaluate a model\n",
        "test_loss,test_acc=model.evaluate(x_test,y_test,verbose=2)\n",
        "print(\"/nTest accuracy:\",test_acc)\n"
      ],
      "metadata": {
        "id": "KJZunHBIgJey",
        "outputId": "6c04e335-c7bc-4e14-e5a8-209ee9884616",
        "colab": {
          "base_uri": "https://localhost:8080/"
        }
      },
      "execution_count": 19,
      "outputs": [
        {
          "output_type": "stream",
          "name": "stdout",
          "text": [
            "313/313 - 4s - loss: 0.9521 - accuracy: 0.6740 - 4s/epoch - 13ms/step\n",
            "/nTest accuracy: 0.6740000247955322\n"
          ]
        }
      ]
    },
    {
      "cell_type": "code",
      "source": [
        "#plot the training history\n",
        "plt.plot(history.history['accuracy'],label='accuracy')\n",
        "plt.plot(history.history['val_accuracy'],label='val_accuracy')\n",
        "plt.xlabel('Epoch')\n",
        "plt.ylabel('Accuracy')\n",
        "plt.ylim([0,1])\n",
        "plt.legend(loc='lower right')\n",
        "plt.show()\n"
      ],
      "metadata": {
        "id": "1zFatJzKg9sD",
        "outputId": "3ffc9128-1219-4f69-bc9f-2659cabf625a",
        "colab": {
          "base_uri": "https://localhost:8080/",
          "height": 455
        }
      },
      "execution_count": 20,
      "outputs": [
        {
          "output_type": "display_data",
          "data": {
            "text/plain": [
              "<Figure size 640x480 with 1 Axes>"
            ],
            "image/png": "[encoded data removed]"
          },
          "metadata": {}
        }
      ]
    }
  ]
}